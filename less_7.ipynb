{
 "cells": [
  {
   "cell_type": "code",
   "execution_count": 1,
   "metadata": {},
   "outputs": [],
   "source": [
    "import numpy as np\n",
    "import scipy.stats as stats\n",
    "import matplotlib.pyplot as plt\n",
    "import seaborn as sns\n",
    "from math import sqrt\n",
    "from matplotlib import pyplot as plt\n",
    "plt.style.use('seaborn-whitegrid')"
   ]
  },
  {
   "cell_type": "markdown",
   "metadata": {},
   "source": [
    "1. Даны значения величины заработной платы заемщиков банка (zp) и значения их поведенческого кредитного скоринга (ks):  \n",
    "zp = [35, 45, 190, 200, 40, 70, 54, 150, 120, 110],  \n",
    "ks = [401, 574, 874, 919, 459, 739, 653, 902, 746, 832].  \n",
    "Используя математические операции, посчитать коэффициенты линейной регрессии, приняв за X заработную плату (то есть, zp - признак), а за y - значения скорингового балла (то есть, ks - целевая переменная). Произвести расчет как с использованием intercept, так и без."
   ]
  },
  {
   "cell_type": "code",
   "execution_count": 2,
   "metadata": {},
   "outputs": [
    {
     "data": {
      "text/plain": [
       "array([ 35,  45, 190, 200,  40,  70,  54, 150, 120, 110])"
      ]
     },
     "execution_count": 2,
     "metadata": {},
     "output_type": "execute_result"
    }
   ],
   "source": [
    "X = np.array([35, 45, 190, 200, 40, 70, 54, 150, 120, 110])\n",
    "X"
   ]
  },
  {
   "cell_type": "code",
   "execution_count": 3,
   "metadata": {},
   "outputs": [
    {
     "data": {
      "text/plain": [
       "array([401, 574, 874, 919, 459, 739, 653, 902, 746, 832])"
      ]
     },
     "execution_count": 3,
     "metadata": {},
     "output_type": "execute_result"
    }
   ],
   "source": [
    "y = np.array([401, 574, 874, 919, 459, 739, 653, 902, 746, 832])\n",
    "y"
   ]
  },
  {
   "cell_type": "code",
   "execution_count": 4,
   "metadata": {},
   "outputs": [
    {
     "data": {
      "text/plain": [
       "10"
      ]
     },
     "execution_count": 4,
     "metadata": {},
     "output_type": "execute_result"
    }
   ],
   "source": [
    "n = len(X)\n",
    "n"
   ]
  },
  {
   "cell_type": "markdown",
   "metadata": {},
   "source": [
    "Важным частным случаем линейной регрессии является парная регрессия. При парной регрессии используется только один фактор, т.е. модель имеет вид:\n",
    "$$y = b_0 + b_1 x + \\varepsilon$$"
   ]
  },
  {
   "cell_type": "markdown",
   "metadata": {},
   "source": [
    "Коэффициенты парной регрессии\n",
    "можно найти по формуле:\n",
    "$$b_1 = \\frac{\\sigma_{XY}}{\\sigma^2_X}, \\:\\:\n",
    "b_0 = \\overline{Y} - b_1 \\cdot {\\overline{X}},$$\n",
    "где $\\sigma^2_X$ — выборочная дисперсия, $\\sigma_{XY}$ — выборочная ковариация."
   ]
  },
  {
   "cell_type": "markdown",
   "metadata": {},
   "source": [
    "Найдём коэффициенты линейной регрессии:"
   ]
  },
  {
   "cell_type": "code",
   "execution_count": 5,
   "metadata": {},
   "outputs": [
    {
     "data": {
      "text/plain": [
       "(444.1773573243595, 2.620538882402766)"
      ]
     },
     "execution_count": 5,
     "metadata": {},
     "output_type": "execute_result"
    }
   ],
   "source": [
    "b1 = np.cov(X, y, ddof=0)[0, 1] / np.var(X, ddof=0)\n",
    "b0 = y.mean() - b1 * X.mean()\n",
    "\n",
    "b0, b1"
   ]
  },
  {
   "cell_type": "markdown",
   "metadata": {},
   "source": [
    "Визуализируем полученные результаты на графике."
   ]
  },
  {
   "cell_type": "code",
   "execution_count": 6,
   "metadata": {},
   "outputs": [
    {
     "data": {
      "image/png": "[encoded data removed]",
      "text/plain": [
       "<Figure size 432x288 with 1 Axes>"
      ]
     },
     "metadata": {},
     "output_type": "display_data"
    }
   ],
   "source": [
    "ox = X\n",
    "oy = b0 + b1 * ox\n",
    "\n",
    "plt.scatter(X, y)\n",
    "plt.plot(ox, oy, color='blue', alpha=0.5)\n",
    "\n",
    "plt.xlabel('величина заработной платы')\n",
    "plt.ylabel('поведенческий кредитный скоринг');"
   ]
  },
  {
   "cell_type": "markdown",
   "metadata": {},
   "source": [
    "Итак, модель линейной регрессии имеет вид:\n",
    "$$y = 444.17 + 2.62 \\cdot x,$$"
   ]
  },
  {
   "cell_type": "code",
   "execution_count": 7,
   "metadata": {},
   "outputs": [
    {
     "data": {
      "text/plain": [
       "array([535.87, 562.07, 941.97, 968.17, 548.97, 627.57, 585.65, 837.17,\n",
       "       758.57, 732.37])"
      ]
     },
     "execution_count": 7,
     "metadata": {},
     "output_type": "execute_result"
    }
   ],
   "source": [
    "y_hat = 444.17 + 2.62 * X\n",
    "y_hat"
   ]
  },
  {
   "cell_type": "code",
   "execution_count": 8,
   "metadata": {},
   "outputs": [
    {
     "data": {
      "text/plain": [
       "array([401, 574, 874, 919, 459, 739, 653, 902, 746, 832])"
      ]
     },
     "execution_count": 8,
     "metadata": {},
     "output_type": "execute_result"
    }
   ],
   "source": [
    "y"
   ]
  },
  {
   "cell_type": "code",
   "execution_count": 9,
   "metadata": {},
   "outputs": [
    {
     "data": {
      "text/plain": [
       "6470.419059999998"
      ]
     },
     "execution_count": 9,
     "metadata": {},
     "output_type": "execute_result"
    }
   ],
   "source": [
    "mse = ((y - y_hat) ** 2).sum() / n\n",
    "mse"
   ]
  },
  {
   "cell_type": "markdown",
   "metadata": {},
   "source": [
    "Без интерспета"
   ]
  },
  {
   "cell_type": "markdown",
   "metadata": {},
   "source": [
    "$$y = b_1x$$"
   ]
  },
  {
   "cell_type": "code",
   "execution_count": 10,
   "metadata": {},
   "outputs": [
    {
     "data": {
      "text/plain": [
       "array([[ 35],\n",
       "       [ 45],\n",
       "       [190],\n",
       "       [200],\n",
       "       [ 40],\n",
       "       [ 70],\n",
       "       [ 54],\n",
       "       [150],\n",
       "       [120],\n",
       "       [110]])"
      ]
     },
     "execution_count": 10,
     "metadata": {},
     "output_type": "execute_result"
    }
   ],
   "source": [
    "X = X.reshape((10, 1))\n",
    "X"
   ]
  },
  {
   "cell_type": "code",
   "execution_count": 11,
   "metadata": {},
   "outputs": [
    {
     "data": {
      "text/plain": [
       "array([[401],\n",
       "       [574],\n",
       "       [874],\n",
       "       [919],\n",
       "       [459],\n",
       "       [739],\n",
       "       [653],\n",
       "       [902],\n",
       "       [746],\n",
       "       [832]])"
      ]
     },
     "execution_count": 11,
     "metadata": {},
     "output_type": "execute_result"
    }
   ],
   "source": [
    "y = y.reshape((10, 1))\n",
    "y"
   ]
  },
  {
   "cell_type": "code",
   "execution_count": 12,
   "metadata": {},
   "outputs": [
    {
     "data": {
      "text/plain": [
       "array([[5.88982042]])"
      ]
     },
     "execution_count": 12,
     "metadata": {},
     "output_type": "execute_result"
    }
   ],
   "source": [
    "B = np.dot(np.linalg.inv(np.dot(X.T, X)),X.T @ y)\n",
    "B"
   ]
  },
  {
   "cell_type": "markdown",
   "metadata": {},
   "source": [
    "С интерсептом"
   ]
  },
  {
   "cell_type": "code",
   "execution_count": 13,
   "metadata": {},
   "outputs": [],
   "source": [
    "ones = np.ones((X.shape[0], 1))\n",
    "X2 = np.hstack((ones, X))"
   ]
  },
  {
   "cell_type": "code",
   "execution_count": 14,
   "metadata": {},
   "outputs": [
    {
     "data": {
      "text/plain": [
       "array([[  1.,  35.],\n",
       "       [  1.,  45.],\n",
       "       [  1., 190.],\n",
       "       [  1., 200.],\n",
       "       [  1.,  40.],\n",
       "       [  1.,  70.],\n",
       "       [  1.,  54.],\n",
       "       [  1., 150.],\n",
       "       [  1., 120.],\n",
       "       [  1., 110.]])"
      ]
     },
     "execution_count": 14,
     "metadata": {},
     "output_type": "execute_result"
    }
   ],
   "source": [
    "X2"
   ]
  },
  {
   "cell_type": "code",
   "execution_count": 15,
   "metadata": {},
   "outputs": [
    {
     "data": {
      "text/plain": [
       "array([[444.17735732],\n",
       "       [  2.62053888]])"
      ]
     },
     "execution_count": 15,
     "metadata": {},
     "output_type": "execute_result"
    }
   ],
   "source": [
    "B = np.dot(np.linalg.inv(np.dot(X2.T, X2)),X2.T @ y)\n",
    "B"
   ]
  },
  {
   "cell_type": "markdown",
   "metadata": {},
   "source": [
    "2. Посчитать коэффициент линейной регрессии при заработной плате (zp), используя градиентный спуск (без intercept)."
   ]
  },
  {
   "cell_type": "markdown",
   "metadata": {},
   "source": [
    "$$y = b_1x$$"
   ]
  },
  {
   "cell_type": "code",
   "execution_count": 16,
   "metadata": {},
   "outputs": [],
   "source": [
    "def mse_(B1, y = y, X = X, n = 10):\n",
    "    return np.sum((B1 * X - y) ** 2) / n"
   ]
  },
  {
   "cell_type": "code",
   "execution_count": 17,
   "metadata": {},
   "outputs": [],
   "source": [
    "B1 = 0.1"
   ]
  },
  {
   "cell_type": "code",
   "execution_count": 18,
   "metadata": {},
   "outputs": [
    {
     "data": {
      "text/plain": [
       "1e-06"
      ]
     },
     "execution_count": 18,
     "metadata": {},
     "output_type": "execute_result"
    }
   ],
   "source": [
    "alpha = 1e-6\n",
    "alpha"
   ]
  },
  {
   "cell_type": "code",
   "execution_count": 19,
   "metadata": {},
   "outputs": [
    {
     "name": "stdout",
     "output_type": "stream",
     "text": [
      "Iteration: 0,B1 = 0.25952808, mse = 493237.7212546963\n",
      "Iteration: 5000,B1 = 5.889820420132673, mse = 56516.85841571943\n"
     ]
    }
   ],
   "source": [
    "for i in range (10000):\n",
    "    B1 -= alpha * (2 / n) * np.sum((B1 * X - y) * X)\n",
    "    if i % 5000 == 0:\n",
    "        print(f'Iteration: {i},B1 = {B1}, mse = {mse_(B1)}')"
   ]
  },
  {
   "cell_type": "markdown",
   "metadata": {},
   "source": [
    "3. Произвести вычисления как в пункте 2, но с вычислением intercept. Учесть, что изменение коэффициентов должно производиться на каждом шаге одновременно (то есть изменение одного коэффициента не должно влиять на изменение другого во время одной итерации)."
   ]
  },
  {
   "cell_type": "markdown",
   "metadata": {},
   "source": [
    "$$y = b_0 + b_1 x$$"
   ]
  },
  {
   "cell_type": "code",
   "execution_count": 20,
   "metadata": {},
   "outputs": [],
   "source": [
    "B0 = 0.1"
   ]
  },
  {
   "cell_type": "code",
   "execution_count": 21,
   "metadata": {},
   "outputs": [],
   "source": [
    "B1 = 0.1"
   ]
  },
  {
   "cell_type": "code",
   "execution_count": 22,
   "metadata": {},
   "outputs": [],
   "source": [
    "def mse_(B0, B1, y = y, X = X, n = 10):\n",
    "    return np.sum((B0 + B1 * X - y) ** 2) / n "
   ]
  },
  {
   "cell_type": "code",
   "execution_count": 23,
   "metadata": {},
   "outputs": [
    {
     "name": "stdout",
     "output_type": "stream",
     "text": [
      "Iteration: 0, B0 = 0.10139932, B1 = 0.2595078, mse = 493102.2473380378\n",
      "Iteration: 300000, B0 = 62.829650296108134, B1 = 5.427426609637098, mse = 43359.906132935954\n",
      "Iteration: 600000, B0 = 116.66662135528688, B1 = 5.031162699949339, mse = 33679.34505450296\n",
      "Iteration: 900000, B0 = 162.90312858733543, B1 = 4.690841564387336, mse = 26539.162221632003\n",
      "Iteration: 1200000, B0 = 202.61217162895628, B1 = 4.398565451224586, mse = 21272.710156119996\n",
      "Iteration: 1500000, B0 = 236.71526880642702, B1 = 4.147551578153019, mse = 17388.28338336958\n",
      "Iteration: 1800000, B0 = 266.0038425924235, B1 = 3.9319747258657687, mse = 14523.210054084338\n",
      "Iteration: 2100000, B0 = 291.15758595931146, B1 = 3.7468320535766986, mse = 12409.990868239614\n",
      "Iteration: 2400000, B0 = 312.76023585238033, B1 = 3.587826999283546, mse = 10851.323841546426\n",
      "Iteration: 2700000, B0 = 331.3131198345605, B1 = 3.4512695704735044, mse = 9701.683086636143\n",
      "Iteration: 3000000, B0 = 347.2467902759279, B1 = 3.33399071134467, mse = 8853.731700793858\n",
      "Iteration: 3300000, B0 = 360.93101608024426, B1 = 3.233268759281134, mse = 8228.300191273234\n"
     ]
    }
   ],
   "source": [
    "for i in range (3500000):\n",
    "    y_pred = B0 + B1 * X\n",
    "    B0 -= alpha * (2 / n) * np.sum((y_pred - y))\n",
    "    B1 -= alpha * (2 / n) * np.sum((y_pred - y) * X)\n",
    "    if i % 300000 == 0:\n",
    "        print(f'Iteration: {i}, B0 = {B0}, B1 = {B1}, mse = {mse_(B0, B1)}')"
   ]
  },
  {
   "cell_type": "code",
   "execution_count": 32,
   "metadata": {},
   "outputs": [],
   "source": [
    "alpha = 5e-6"
   ]
  },
  {
   "cell_type": "code",
   "execution_count": 25,
   "metadata": {},
   "outputs": [],
   "source": [
    "def mse_(B0, B1, y = y, X = X, n = 10):\n",
    "    return np.sum((B0 + B1 * X - y) ** 2) / n "
   ]
  },
  {
   "cell_type": "code",
   "execution_count": 26,
   "metadata": {},
   "outputs": [
    {
     "name": "stdout",
     "output_type": "stream",
     "text": [
      "Iteration: 0, B0 = 368.9630359574116, B1 = 3.174149541825204, mse = 7905.445845018561\n",
      "Iteration: 300000, B0 = 409.0357020777073, B1 = 2.8791970020364066, mse = 6783.6741139898395\n",
      "Iteration: 600000, B0 = 427.75846380740404, B1 = 2.741389197897374, mse = 6538.797204016174\n",
      "Iteration: 900000, B0 = 436.506117525625, B1 = 2.6770025989713946, mse = 6485.341853538462\n",
      "Iteration: 1200000, B0 = 440.5931986239634, B1 = 2.6469198750852696, mse = 6473.672829721494\n",
      "Iteration: 1500000, B0 = 442.5027657424608, B1 = 2.632864616825009, mse = 6471.125542768489\n",
      "Iteration: 1800000, B0 = 443.3949541997905, B1 = 2.626297715319885, mse = 6470.5694833308835\n",
      "Iteration: 2100000, B0 = 443.81180272827436, B1 = 2.6232295258509235, mse = 6470.4480984598995\n",
      "Iteration: 2400000, B0 = 444.0065628086927, B1 = 2.621796005550667, mse = 6470.421600776545\n",
      "Iteration: 2700000, B0 = 444.09755866529, B1 = 2.621126235814532, mse = 6470.415816470669\n",
      "Iteration: 3000000, B0 = 444.14007377362674, B1 = 2.620813305820163, mse = 6470.414553786904\n",
      "Iteration: 3300000, B0 = 444.15993769387103, B1 = 2.6206670985848213, mse = 6470.414278149634\n"
     ]
    }
   ],
   "source": [
    "for i in range (3500000):\n",
    "    y_pred = B0 + B1 * X\n",
    "    B0 -= alpha * (2 / n) * np.sum((y_pred - y))\n",
    "    B1 -= alpha * (2 / n) * np.sum((y_pred - y) * X)\n",
    "    if i % 300000 == 0:\n",
    "        print(f'Iteration: {i}, B0 = {B0}, B1 = {B1}, mse = {mse_(B0, B1)}')"
   ]
  },
  {
   "cell_type": "code",
   "execution_count": 30,
   "metadata": {},
   "outputs": [],
   "source": [
    "alpha = 5e-5"
   ]
  },
  {
   "cell_type": "code",
   "execution_count": 28,
   "metadata": {},
   "outputs": [
    {
     "name": "stdout",
     "output_type": "stream",
     "text": [
      "Iteration: 0, B0 = 444.1668689026894, B1 = 2.620616081823456, mse = 6470.414229081573\n",
      "Iteration: 300000, B0 = 444.17735212572575, B1 = 2.6205389206670087, mse = 6470.414201176663\n",
      "Iteration: 600000, B0 = 444.1773573216328, B1 = 2.6205388824228355, mse = 6470.414201176658\n",
      "Iteration: 900000, B0 = 444.17735732323933, B1 = 2.6205388824110107, mse = 6470.414201176658\n",
      "Iteration: 1200000, B0 = 444.17735732323933, B1 = 2.6205388824110107, mse = 6470.414201176658\n",
      "Iteration: 1500000, B0 = 444.17735732323933, B1 = 2.6205388824110107, mse = 6470.414201176658\n",
      "Iteration: 1800000, B0 = 444.17735732323933, B1 = 2.6205388824110107, mse = 6470.414201176658\n",
      "Iteration: 2100000, B0 = 444.17735732323933, B1 = 2.6205388824110107, mse = 6470.414201176658\n",
      "Iteration: 2400000, B0 = 444.17735732323933, B1 = 2.6205388824110107, mse = 6470.414201176658\n",
      "Iteration: 2700000, B0 = 444.17735732323933, B1 = 2.6205388824110107, mse = 6470.414201176658\n",
      "Iteration: 3000000, B0 = 444.17735732323933, B1 = 2.6205388824110107, mse = 6470.414201176658\n",
      "Iteration: 3300000, B0 = 444.17735732323933, B1 = 2.6205388824110107, mse = 6470.414201176658\n",
      "Iteration: 3600000, B0 = 444.17735732323933, B1 = 2.6205388824110107, mse = 6470.414201176658\n",
      "Iteration: 3900000, B0 = 444.17735732323933, B1 = 2.6205388824110107, mse = 6470.414201176658\n",
      "Iteration: 4200000, B0 = 444.17735732323933, B1 = 2.6205388824110107, mse = 6470.414201176658\n",
      "Iteration: 4500000, B0 = 444.17735732323933, B1 = 2.6205388824110107, mse = 6470.414201176658\n",
      "Iteration: 4800000, B0 = 444.17735732323933, B1 = 2.6205388824110107, mse = 6470.414201176658\n",
      "Iteration: 5100000, B0 = 444.17735732323933, B1 = 2.6205388824110107, mse = 6470.414201176658\n",
      "Iteration: 5400000, B0 = 444.17735732323933, B1 = 2.6205388824110107, mse = 6470.414201176658\n",
      "Iteration: 5700000, B0 = 444.17735732323933, B1 = 2.6205388824110107, mse = 6470.414201176658\n",
      "Iteration: 6000000, B0 = 444.17735732323933, B1 = 2.6205388824110107, mse = 6470.414201176658\n",
      "Iteration: 6300000, B0 = 444.17735732323933, B1 = 2.6205388824110107, mse = 6470.414201176658\n",
      "Iteration: 6600000, B0 = 444.17735732323933, B1 = 2.6205388824110107, mse = 6470.414201176658\n",
      "Iteration: 6900000, B0 = 444.17735732323933, B1 = 2.6205388824110107, mse = 6470.414201176658\n",
      "Iteration: 7200000, B0 = 444.17735732323933, B1 = 2.6205388824110107, mse = 6470.414201176658\n"
     ]
    }
   ],
   "source": [
    "for i in range (7500000):\n",
    "    y_pred = B0 + B1 * X\n",
    "    B0 -= alpha * (2 / n) * np.sum((y_pred - y))\n",
    "    B1 -= alpha * (2 / n) * np.sum((y_pred - y) * X)\n",
    "    if i % 300000 == 0:\n",
    "        print(f'Iteration: {i}, B0 = {B0}, B1 = {B1}, mse = {mse_(B0, B1)}')"
   ]
  }
 ],
 "metadata": {
  "kernelspec": {
   "display_name": "Python 3",
   "language": "python",
   "name": "python3"
  },
  "language_info": {
   "codemirror_mode": {
    "name": "ipython",
    "version": 3
   },
   "file_extension": ".py",
   "mimetype": "text/x-python",
   "name": "python",
   "nbconvert_exporter": "python",
   "pygments_lexer": "ipython3",
   "version": "3.8.5"
  }
 },
 "nbformat": 4,
 "nbformat_minor": 4
}
